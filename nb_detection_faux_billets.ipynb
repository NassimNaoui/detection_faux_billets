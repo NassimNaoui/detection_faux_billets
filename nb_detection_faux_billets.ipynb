{
 "cells": [
  {
   "cell_type": "markdown",
   "id": "9f258de4",
   "metadata": {},
   "source": [
    "# 🔍 Détectez de faux billets"
   ]
  },
  {
   "cell_type": "markdown",
   "id": "eb443e00",
   "metadata": {},
   "source": [
    "L'ONCFM est une insitution qui a pour objectif de mettre en place des méthodes pour détecter la contrefaçon de billets d'euros.\n",
    "En tant que Data analyst, il m'a été demandé de travailler sur un jeu de données pour détecter et prédire des faux billets à l'aide de modèles de prédictions. "
   ]
  },
  {
   "cell_type": "markdown",
   "id": "1941e5bd",
   "metadata": {},
   "source": [
    "# Sommaire"
   ]
  },
  {
   "cell_type": "markdown",
   "id": "dc9319be",
   "metadata": {},
   "source": [
    "[Importations des librairies et du fichier](#Importations-des-librairies-et-du-fichier)\n",
    "\n",
    "[Inspection et préparation des données](#Inspection-et-préparation-des-données)\n",
    "\n",
    "[Prédiction des valeurs manquantes](#Prédiction-des-valeurs-manquantes)\n",
    "\n",
    "- [1. Création du DF d'entrainement et du DF à prédire](#1.-Création-du-DF-d'entrainement-et-du-DF-à-prédire)\n",
    "- [2. Matrice des corrélations](#2.-Matrice-des-corrélations)\n",
    "- [3. Entrainement du modèle](#3.-Entrainement-du-modèle)\n",
    "- [4. Application du modèle](#4.-Application-du-modèle)\n",
    "- [5. Tests statistiques](#5.-Tests-statistiques)\n",
    "    - [a. Colinéarités des variables](#a.-Colinéarités-des-variables)\n",
    "    - [b. Homoscédasticité](#b.-Homoscédasticité)\n",
    "    - [c. Normilité des résidus](#c.-Normilité-des-résidus)\n",
    "\n",
    "[Prédiction des faux billets](#Prédiction-des-faux-billets)\n",
    "\n",
    "- [1. Algorithme de K-means](#1.-Algorithme-de-K-means)\n",
    "- [2. Régression logistique](#2.-Régression-logistique)\n",
    "    - [a. Test du modèle sur échantillon](#a.-Test-du-modèle-sur-échantillon)\n",
    "    - [b. Application du modèle sur l'ensemble complet](#b.-Application-du-modèle-sur-l'ensemble-complet)\n",
    "    - [c. Ajustement des hyerparamètres](#c.-Ajustement-des-hyerparamètres)\n",
    "\n",
    "[Conclusion](#Conclusion)\n",
    "\n",
    "[Test de l'agorithme en direct](#Test-de-l'agorithme-en-direct)\n",
    "\n",
    "- [1. Chargement du dataframe](#1.-Chargement-du-dataframe)\n",
    "- [2. Régression logistique](#2.-Régression-logistique)\n",
    "- [3. K-means](#3.-K-means)"
   ]
  },
  {
   "cell_type": "markdown",
   "id": "693d58cc",
   "metadata": {},
   "source": [
    "# Importation des librairies et du fichier"
   ]
  },
  {
   "cell_type": "code",
   "execution_count": 101,
   "id": "99b29979",
   "metadata": {},
   "outputs": [],
   "source": [
    "import pandas as pd\n",
    "import numpy as np\n",
    "import seaborn as sns\n",
    "import matplotlib.pyplot as plt\n",
    "import statsmodels.api as sm\n",
    "\n",
    "\n",
    "from statsmodels.compat import lzip\n",
    "from statsmodels.stats.diagnostic import het_breuschpagan\n",
    "from statsmodels.stats.outliers_influence import variance_inflation_factor\n",
    "from statsmodels.tools.tools import add_constant\n",
    "\n",
    "from scipy.stats import shapiro\n",
    "\n",
    "from sklearn.linear_model import LinearRegression\n",
    "from sklearn.cluster import KMeans\n",
    "from sklearn.metrics import confusion_matrix, accuracy_score\n",
    "from sklearn.model_selection import train_test_split\n",
    "from sklearn.linear_model import LogisticRegression\n",
    "\n",
    "billets = pd.read_csv('billets.csv', delimiter = ';')"
   ]
  },
  {
   "cell_type": "markdown",
   "id": "a573a075",
   "metadata": {},
   "source": [
    "# Inspection et préparation des données"
   ]
  },
  {
   "cell_type": "code",
   "execution_count": 102,
   "id": "86f1499a",
   "metadata": {},
   "outputs": [
    {
     "data": {
      "text/html": [
       "<div>\n",
       "<style scoped>\n",
       "    .dataframe tbody tr th:only-of-type {\n",
       "        vertical-align: middle;\n",
       "    }\n",
       "\n",
       "    .dataframe tbody tr th {\n",
       "        vertical-align: top;\n",
       "    }\n",
       "\n",
       "    .dataframe thead th {\n",
       "        text-align: right;\n",
       "    }\n",
       "</style>\n",
       "<table border=\"1\" class=\"dataframe\">\n",
       "  <thead>\n",
       "    <tr style=\"text-align: right;\">\n",
       "      <th></th>\n",
       "      <th>is_genuine</th>\n",
       "      <th>diagonal</th>\n",
       "      <th>height_left</th>\n",
       "      <th>height_right</th>\n",
       "      <th>margin_low</th>\n",
       "      <th>margin_up</th>\n",
       "      <th>length</th>\n",
       "    </tr>\n",
       "  </thead>\n",
       "  <tbody>\n",
       "    <tr>\n",
       "      <th>0</th>\n",
       "      <td>True</td>\n",
       "      <td>171.81</td>\n",
       "      <td>104.86</td>\n",
       "      <td>104.95</td>\n",
       "      <td>4.52</td>\n",
       "      <td>2.89</td>\n",
       "      <td>112.83</td>\n",
       "    </tr>\n",
       "    <tr>\n",
       "      <th>1</th>\n",
       "      <td>True</td>\n",
       "      <td>171.46</td>\n",
       "      <td>103.36</td>\n",
       "      <td>103.66</td>\n",
       "      <td>3.77</td>\n",
       "      <td>2.99</td>\n",
       "      <td>113.09</td>\n",
       "    </tr>\n",
       "    <tr>\n",
       "      <th>2</th>\n",
       "      <td>True</td>\n",
       "      <td>172.69</td>\n",
       "      <td>104.48</td>\n",
       "      <td>103.50</td>\n",
       "      <td>4.40</td>\n",
       "      <td>2.94</td>\n",
       "      <td>113.16</td>\n",
       "    </tr>\n",
       "    <tr>\n",
       "      <th>3</th>\n",
       "      <td>True</td>\n",
       "      <td>171.36</td>\n",
       "      <td>103.91</td>\n",
       "      <td>103.94</td>\n",
       "      <td>3.62</td>\n",
       "      <td>3.01</td>\n",
       "      <td>113.51</td>\n",
       "    </tr>\n",
       "    <tr>\n",
       "      <th>4</th>\n",
       "      <td>True</td>\n",
       "      <td>171.73</td>\n",
       "      <td>104.28</td>\n",
       "      <td>103.46</td>\n",
       "      <td>4.04</td>\n",
       "      <td>3.48</td>\n",
       "      <td>112.54</td>\n",
       "    </tr>\n",
       "    <tr>\n",
       "      <th>...</th>\n",
       "      <td>...</td>\n",
       "      <td>...</td>\n",
       "      <td>...</td>\n",
       "      <td>...</td>\n",
       "      <td>...</td>\n",
       "      <td>...</td>\n",
       "      <td>...</td>\n",
       "    </tr>\n",
       "    <tr>\n",
       "      <th>1495</th>\n",
       "      <td>False</td>\n",
       "      <td>171.75</td>\n",
       "      <td>104.38</td>\n",
       "      <td>104.17</td>\n",
       "      <td>4.42</td>\n",
       "      <td>3.09</td>\n",
       "      <td>111.28</td>\n",
       "    </tr>\n",
       "    <tr>\n",
       "      <th>1496</th>\n",
       "      <td>False</td>\n",
       "      <td>172.19</td>\n",
       "      <td>104.63</td>\n",
       "      <td>104.44</td>\n",
       "      <td>5.27</td>\n",
       "      <td>3.37</td>\n",
       "      <td>110.97</td>\n",
       "    </tr>\n",
       "    <tr>\n",
       "      <th>1497</th>\n",
       "      <td>False</td>\n",
       "      <td>171.80</td>\n",
       "      <td>104.01</td>\n",
       "      <td>104.12</td>\n",
       "      <td>5.51</td>\n",
       "      <td>3.36</td>\n",
       "      <td>111.95</td>\n",
       "    </tr>\n",
       "    <tr>\n",
       "      <th>1498</th>\n",
       "      <td>False</td>\n",
       "      <td>172.06</td>\n",
       "      <td>104.28</td>\n",
       "      <td>104.06</td>\n",
       "      <td>5.17</td>\n",
       "      <td>3.46</td>\n",
       "      <td>112.25</td>\n",
       "    </tr>\n",
       "    <tr>\n",
       "      <th>1499</th>\n",
       "      <td>False</td>\n",
       "      <td>171.47</td>\n",
       "      <td>104.15</td>\n",
       "      <td>103.82</td>\n",
       "      <td>4.63</td>\n",
       "      <td>3.37</td>\n",
       "      <td>112.07</td>\n",
       "    </tr>\n",
       "  </tbody>\n",
       "</table>\n",
       "<p>1500 rows × 7 columns</p>\n",
       "</div>"
      ],
      "text/plain": [
       "      is_genuine  diagonal  height_left  height_right  margin_low  margin_up  \\\n",
       "0           True    171.81       104.86        104.95        4.52       2.89   \n",
       "1           True    171.46       103.36        103.66        3.77       2.99   \n",
       "2           True    172.69       104.48        103.50        4.40       2.94   \n",
       "3           True    171.36       103.91        103.94        3.62       3.01   \n",
       "4           True    171.73       104.28        103.46        4.04       3.48   \n",
       "...          ...       ...          ...           ...         ...        ...   \n",
       "1495       False    171.75       104.38        104.17        4.42       3.09   \n",
       "1496       False    172.19       104.63        104.44        5.27       3.37   \n",
       "1497       False    171.80       104.01        104.12        5.51       3.36   \n",
       "1498       False    172.06       104.28        104.06        5.17       3.46   \n",
       "1499       False    171.47       104.15        103.82        4.63       3.37   \n",
       "\n",
       "      length  \n",
       "0     112.83  \n",
       "1     113.09  \n",
       "2     113.16  \n",
       "3     113.51  \n",
       "4     112.54  \n",
       "...      ...  \n",
       "1495  111.28  \n",
       "1496  110.97  \n",
       "1497  111.95  \n",
       "1498  112.25  \n",
       "1499  112.07  \n",
       "\n",
       "[1500 rows x 7 columns]"
      ]
     },
     "execution_count": 102,
     "metadata": {},
     "output_type": "execute_result"
    }
   ],
   "source": [
    "billets"
   ]
  },
  {
   "cell_type": "code",
   "execution_count": 103,
   "id": "21081082",
   "metadata": {},
   "outputs": [
    {
     "data": {
      "text/plain": [
       "is_genuine       0\n",
       "diagonal         0\n",
       "height_left      0\n",
       "height_right     0\n",
       "margin_low      37\n",
       "margin_up        0\n",
       "length           0\n",
       "dtype: int64"
      ]
     },
     "execution_count": 103,
     "metadata": {},
     "output_type": "execute_result"
    }
   ],
   "source": [
    "billets.isna().sum()"
   ]
  },
  {
   "cell_type": "code",
   "execution_count": 104,
   "id": "73364c74",
   "metadata": {},
   "outputs": [],
   "source": [
    "billets['is_genuine'] = billets['is_genuine'].astype(int)"
   ]
  },
  {
   "cell_type": "markdown",
   "id": "db878505",
   "metadata": {},
   "source": [
    "# Prédiction des valeurs manquantes"
   ]
  },
  {
   "cell_type": "markdown",
   "id": "a8a39fec",
   "metadata": {},
   "source": [
    "## 1. Création du DF d'entrainement et du DF à prédire"
   ]
  },
  {
   "cell_type": "code",
   "execution_count": 105,
   "id": "7b3e03e9",
   "metadata": {},
   "outputs": [],
   "source": [
    "# Création du DF à prédire\n",
    "billets_to_predict = billets[billets.isna().any(axis=1)]\n",
    "\n",
    "# Création du DF d'entrainement\n",
    "billets_completed = billets.dropna()"
   ]
  },
  {
   "cell_type": "code",
   "execution_count": 106,
   "id": "7b947e71",
   "metadata": {},
   "outputs": [
    {
     "data": {
      "text/plain": [
       "1    29\n",
       "0     8\n",
       "Name: is_genuine, dtype: int64"
      ]
     },
     "execution_count": 106,
     "metadata": {},
     "output_type": "execute_result"
    }
   ],
   "source": [
    "billets_to_predict['is_genuine'].value_counts()"
   ]
  },
  {
   "cell_type": "code",
   "execution_count": 107,
   "id": "12bca53a",
   "metadata": {},
   "outputs": [
    {
     "data": {
      "text/html": [
       "<div>\n",
       "<style scoped>\n",
       "    .dataframe tbody tr th:only-of-type {\n",
       "        vertical-align: middle;\n",
       "    }\n",
       "\n",
       "    .dataframe tbody tr th {\n",
       "        vertical-align: top;\n",
       "    }\n",
       "\n",
       "    .dataframe thead th {\n",
       "        text-align: right;\n",
       "    }\n",
       "</style>\n",
       "<table border=\"1\" class=\"dataframe\">\n",
       "  <thead>\n",
       "    <tr style=\"text-align: right;\">\n",
       "      <th></th>\n",
       "      <th>is_genuine</th>\n",
       "      <th>diagonal</th>\n",
       "      <th>height_left</th>\n",
       "      <th>height_right</th>\n",
       "      <th>margin_low</th>\n",
       "      <th>margin_up</th>\n",
       "      <th>length</th>\n",
       "    </tr>\n",
       "  </thead>\n",
       "  <tbody>\n",
       "    <tr>\n",
       "      <th>count</th>\n",
       "      <td>1463.000000</td>\n",
       "      <td>1463.000000</td>\n",
       "      <td>1463.000000</td>\n",
       "      <td>1463.000000</td>\n",
       "      <td>1463.000000</td>\n",
       "      <td>1463.000000</td>\n",
       "      <td>1463.000000</td>\n",
       "    </tr>\n",
       "    <tr>\n",
       "      <th>mean</th>\n",
       "      <td>0.663705</td>\n",
       "      <td>171.959193</td>\n",
       "      <td>104.031333</td>\n",
       "      <td>103.921476</td>\n",
       "      <td>4.485967</td>\n",
       "      <td>3.153083</td>\n",
       "      <td>112.674757</td>\n",
       "    </tr>\n",
       "    <tr>\n",
       "      <th>std</th>\n",
       "      <td>0.472603</td>\n",
       "      <td>0.305457</td>\n",
       "      <td>0.299605</td>\n",
       "      <td>0.324181</td>\n",
       "      <td>0.663813</td>\n",
       "      <td>0.231466</td>\n",
       "      <td>0.873222</td>\n",
       "    </tr>\n",
       "    <tr>\n",
       "      <th>min</th>\n",
       "      <td>0.000000</td>\n",
       "      <td>171.040000</td>\n",
       "      <td>103.140000</td>\n",
       "      <td>102.910000</td>\n",
       "      <td>2.980000</td>\n",
       "      <td>2.270000</td>\n",
       "      <td>109.490000</td>\n",
       "    </tr>\n",
       "    <tr>\n",
       "      <th>25%</th>\n",
       "      <td>0.000000</td>\n",
       "      <td>171.750000</td>\n",
       "      <td>103.825000</td>\n",
       "      <td>103.710000</td>\n",
       "      <td>4.015000</td>\n",
       "      <td>2.990000</td>\n",
       "      <td>112.020000</td>\n",
       "    </tr>\n",
       "    <tr>\n",
       "      <th>50%</th>\n",
       "      <td>1.000000</td>\n",
       "      <td>171.960000</td>\n",
       "      <td>104.040000</td>\n",
       "      <td>103.920000</td>\n",
       "      <td>4.310000</td>\n",
       "      <td>3.140000</td>\n",
       "      <td>112.960000</td>\n",
       "    </tr>\n",
       "    <tr>\n",
       "      <th>75%</th>\n",
       "      <td>1.000000</td>\n",
       "      <td>172.170000</td>\n",
       "      <td>104.230000</td>\n",
       "      <td>104.150000</td>\n",
       "      <td>4.870000</td>\n",
       "      <td>3.315000</td>\n",
       "      <td>113.340000</td>\n",
       "    </tr>\n",
       "    <tr>\n",
       "      <th>max</th>\n",
       "      <td>1.000000</td>\n",
       "      <td>173.010000</td>\n",
       "      <td>104.880000</td>\n",
       "      <td>104.950000</td>\n",
       "      <td>6.900000</td>\n",
       "      <td>3.910000</td>\n",
       "      <td>114.320000</td>\n",
       "    </tr>\n",
       "  </tbody>\n",
       "</table>\n",
       "</div>"
      ],
      "text/plain": [
       "        is_genuine     diagonal  height_left  height_right   margin_low  \\\n",
       "count  1463.000000  1463.000000  1463.000000   1463.000000  1463.000000   \n",
       "mean      0.663705   171.959193   104.031333    103.921476     4.485967   \n",
       "std       0.472603     0.305457     0.299605      0.324181     0.663813   \n",
       "min       0.000000   171.040000   103.140000    102.910000     2.980000   \n",
       "25%       0.000000   171.750000   103.825000    103.710000     4.015000   \n",
       "50%       1.000000   171.960000   104.040000    103.920000     4.310000   \n",
       "75%       1.000000   172.170000   104.230000    104.150000     4.870000   \n",
       "max       1.000000   173.010000   104.880000    104.950000     6.900000   \n",
       "\n",
       "         margin_up       length  \n",
       "count  1463.000000  1463.000000  \n",
       "mean      3.153083   112.674757  \n",
       "std       0.231466     0.873222  \n",
       "min       2.270000   109.490000  \n",
       "25%       2.990000   112.020000  \n",
       "50%       3.140000   112.960000  \n",
       "75%       3.315000   113.340000  \n",
       "max       3.910000   114.320000  "
      ]
     },
     "execution_count": 107,
     "metadata": {},
     "output_type": "execute_result"
    }
   ],
   "source": [
    "billets_completed.describe()"
   ]
  },
  {
   "cell_type": "code",
   "execution_count": 108,
   "id": "5219c735",
   "metadata": {},
   "outputs": [
    {
     "data": {
      "text/html": [
       "<div>\n",
       "<style scoped>\n",
       "    .dataframe tbody tr th:only-of-type {\n",
       "        vertical-align: middle;\n",
       "    }\n",
       "\n",
       "    .dataframe tbody tr th {\n",
       "        vertical-align: top;\n",
       "    }\n",
       "\n",
       "    .dataframe thead th {\n",
       "        text-align: right;\n",
       "    }\n",
       "</style>\n",
       "<table border=\"1\" class=\"dataframe\">\n",
       "  <thead>\n",
       "    <tr style=\"text-align: right;\">\n",
       "      <th></th>\n",
       "      <th>is_genuine</th>\n",
       "      <th>diagonal</th>\n",
       "      <th>height_left</th>\n",
       "      <th>height_right</th>\n",
       "      <th>margin_low</th>\n",
       "      <th>margin_up</th>\n",
       "      <th>length</th>\n",
       "    </tr>\n",
       "  </thead>\n",
       "  <tbody>\n",
       "    <tr>\n",
       "      <th>count</th>\n",
       "      <td>492.0</td>\n",
       "      <td>492.000000</td>\n",
       "      <td>492.000000</td>\n",
       "      <td>492.000000</td>\n",
       "      <td>492.000000</td>\n",
       "      <td>492.000000</td>\n",
       "      <td>492.000000</td>\n",
       "    </tr>\n",
       "    <tr>\n",
       "      <th>mean</th>\n",
       "      <td>0.0</td>\n",
       "      <td>171.901402</td>\n",
       "      <td>104.188537</td>\n",
       "      <td>104.143272</td>\n",
       "      <td>5.215935</td>\n",
       "      <td>3.351504</td>\n",
       "      <td>111.632114</td>\n",
       "    </tr>\n",
       "    <tr>\n",
       "      <th>std</th>\n",
       "      <td>0.0</td>\n",
       "      <td>0.305473</td>\n",
       "      <td>0.224418</td>\n",
       "      <td>0.271683</td>\n",
       "      <td>0.553531</td>\n",
       "      <td>0.179343</td>\n",
       "      <td>0.615343</td>\n",
       "    </tr>\n",
       "    <tr>\n",
       "      <th>min</th>\n",
       "      <td>0.0</td>\n",
       "      <td>171.040000</td>\n",
       "      <td>103.510000</td>\n",
       "      <td>103.430000</td>\n",
       "      <td>3.820000</td>\n",
       "      <td>2.920000</td>\n",
       "      <td>109.490000</td>\n",
       "    </tr>\n",
       "    <tr>\n",
       "      <th>25%</th>\n",
       "      <td>0.0</td>\n",
       "      <td>171.697500</td>\n",
       "      <td>104.040000</td>\n",
       "      <td>103.950000</td>\n",
       "      <td>4.840000</td>\n",
       "      <td>3.227500</td>\n",
       "      <td>111.200000</td>\n",
       "    </tr>\n",
       "    <tr>\n",
       "      <th>50%</th>\n",
       "      <td>0.0</td>\n",
       "      <td>171.910000</td>\n",
       "      <td>104.180000</td>\n",
       "      <td>104.160000</td>\n",
       "      <td>5.190000</td>\n",
       "      <td>3.350000</td>\n",
       "      <td>111.630000</td>\n",
       "    </tr>\n",
       "    <tr>\n",
       "      <th>75%</th>\n",
       "      <td>0.0</td>\n",
       "      <td>172.092500</td>\n",
       "      <td>104.330000</td>\n",
       "      <td>104.320000</td>\n",
       "      <td>5.592500</td>\n",
       "      <td>3.472500</td>\n",
       "      <td>112.030000</td>\n",
       "    </tr>\n",
       "    <tr>\n",
       "      <th>max</th>\n",
       "      <td>0.0</td>\n",
       "      <td>173.010000</td>\n",
       "      <td>104.880000</td>\n",
       "      <td>104.950000</td>\n",
       "      <td>6.900000</td>\n",
       "      <td>3.910000</td>\n",
       "      <td>113.850000</td>\n",
       "    </tr>\n",
       "  </tbody>\n",
       "</table>\n",
       "</div>"
      ],
      "text/plain": [
       "       is_genuine    diagonal  height_left  height_right  margin_low  \\\n",
       "count       492.0  492.000000   492.000000    492.000000  492.000000   \n",
       "mean          0.0  171.901402   104.188537    104.143272    5.215935   \n",
       "std           0.0    0.305473     0.224418      0.271683    0.553531   \n",
       "min           0.0  171.040000   103.510000    103.430000    3.820000   \n",
       "25%           0.0  171.697500   104.040000    103.950000    4.840000   \n",
       "50%           0.0  171.910000   104.180000    104.160000    5.190000   \n",
       "75%           0.0  172.092500   104.330000    104.320000    5.592500   \n",
       "max           0.0  173.010000   104.880000    104.950000    6.900000   \n",
       "\n",
       "        margin_up      length  \n",
       "count  492.000000  492.000000  \n",
       "mean     3.351504  111.632114  \n",
       "std      0.179343    0.615343  \n",
       "min      2.920000  109.490000  \n",
       "25%      3.227500  111.200000  \n",
       "50%      3.350000  111.630000  \n",
       "75%      3.472500  112.030000  \n",
       "max      3.910000  113.850000  "
      ]
     },
     "execution_count": 108,
     "metadata": {},
     "output_type": "execute_result"
    }
   ],
   "source": [
    "billets_completed[billets_completed['is_genuine'] == 0].describe()"
   ]
  },
  {
   "cell_type": "code",
   "execution_count": 109,
   "id": "68f2b02b",
   "metadata": {},
   "outputs": [
    {
     "data": {
      "text/html": [
       "<div>\n",
       "<style scoped>\n",
       "    .dataframe tbody tr th:only-of-type {\n",
       "        vertical-align: middle;\n",
       "    }\n",
       "\n",
       "    .dataframe tbody tr th {\n",
       "        vertical-align: top;\n",
       "    }\n",
       "\n",
       "    .dataframe thead th {\n",
       "        text-align: right;\n",
       "    }\n",
       "</style>\n",
       "<table border=\"1\" class=\"dataframe\">\n",
       "  <thead>\n",
       "    <tr style=\"text-align: right;\">\n",
       "      <th></th>\n",
       "      <th>is_genuine</th>\n",
       "      <th>diagonal</th>\n",
       "      <th>height_left</th>\n",
       "      <th>height_right</th>\n",
       "      <th>margin_low</th>\n",
       "      <th>margin_up</th>\n",
       "      <th>length</th>\n",
       "    </tr>\n",
       "  </thead>\n",
       "  <tbody>\n",
       "    <tr>\n",
       "      <th>count</th>\n",
       "      <td>971.0</td>\n",
       "      <td>971.000000</td>\n",
       "      <td>971.000000</td>\n",
       "      <td>971.000000</td>\n",
       "      <td>971.000000</td>\n",
       "      <td>971.000000</td>\n",
       "      <td>971.000000</td>\n",
       "    </tr>\n",
       "    <tr>\n",
       "      <th>mean</th>\n",
       "      <td>1.0</td>\n",
       "      <td>171.988476</td>\n",
       "      <td>103.951679</td>\n",
       "      <td>103.809094</td>\n",
       "      <td>4.116097</td>\n",
       "      <td>3.052544</td>\n",
       "      <td>113.203059</td>\n",
       "    </tr>\n",
       "    <tr>\n",
       "      <th>std</th>\n",
       "      <td>0.0</td>\n",
       "      <td>0.301402</td>\n",
       "      <td>0.301518</td>\n",
       "      <td>0.288862</td>\n",
       "      <td>0.319124</td>\n",
       "      <td>0.185425</td>\n",
       "      <td>0.356123</td>\n",
       "    </tr>\n",
       "    <tr>\n",
       "      <th>min</th>\n",
       "      <td>1.0</td>\n",
       "      <td>171.040000</td>\n",
       "      <td>103.140000</td>\n",
       "      <td>102.910000</td>\n",
       "      <td>2.980000</td>\n",
       "      <td>2.270000</td>\n",
       "      <td>111.760000</td>\n",
       "    </tr>\n",
       "    <tr>\n",
       "      <th>25%</th>\n",
       "      <td>1.0</td>\n",
       "      <td>171.790000</td>\n",
       "      <td>103.745000</td>\n",
       "      <td>103.610000</td>\n",
       "      <td>3.905000</td>\n",
       "      <td>2.925000</td>\n",
       "      <td>112.960000</td>\n",
       "    </tr>\n",
       "    <tr>\n",
       "      <th>50%</th>\n",
       "      <td>1.0</td>\n",
       "      <td>171.990000</td>\n",
       "      <td>103.950000</td>\n",
       "      <td>103.810000</td>\n",
       "      <td>4.110000</td>\n",
       "      <td>3.050000</td>\n",
       "      <td>113.200000</td>\n",
       "    </tr>\n",
       "    <tr>\n",
       "      <th>75%</th>\n",
       "      <td>1.0</td>\n",
       "      <td>172.200000</td>\n",
       "      <td>104.140000</td>\n",
       "      <td>104.000000</td>\n",
       "      <td>4.340000</td>\n",
       "      <td>3.180000</td>\n",
       "      <td>113.460000</td>\n",
       "    </tr>\n",
       "    <tr>\n",
       "      <th>max</th>\n",
       "      <td>1.0</td>\n",
       "      <td>172.920000</td>\n",
       "      <td>104.860000</td>\n",
       "      <td>104.950000</td>\n",
       "      <td>5.040000</td>\n",
       "      <td>3.740000</td>\n",
       "      <td>114.320000</td>\n",
       "    </tr>\n",
       "  </tbody>\n",
       "</table>\n",
       "</div>"
      ],
      "text/plain": [
       "       is_genuine    diagonal  height_left  height_right  margin_low  \\\n",
       "count       971.0  971.000000   971.000000    971.000000  971.000000   \n",
       "mean          1.0  171.988476   103.951679    103.809094    4.116097   \n",
       "std           0.0    0.301402     0.301518      0.288862    0.319124   \n",
       "min           1.0  171.040000   103.140000    102.910000    2.980000   \n",
       "25%           1.0  171.790000   103.745000    103.610000    3.905000   \n",
       "50%           1.0  171.990000   103.950000    103.810000    4.110000   \n",
       "75%           1.0  172.200000   104.140000    104.000000    4.340000   \n",
       "max           1.0  172.920000   104.860000    104.950000    5.040000   \n",
       "\n",
       "        margin_up      length  \n",
       "count  971.000000  971.000000  \n",
       "mean     3.052544  113.203059  \n",
       "std      0.185425    0.356123  \n",
       "min      2.270000  111.760000  \n",
       "25%      2.925000  112.960000  \n",
       "50%      3.050000  113.200000  \n",
       "75%      3.180000  113.460000  \n",
       "max      3.740000  114.320000  "
      ]
     },
     "execution_count": 109,
     "metadata": {},
     "output_type": "execute_result"
    }
   ],
   "source": [
    "billets_completed[billets_completed['is_genuine'] == 1].describe()"
   ]
  },
  {
   "cell_type": "markdown",
   "id": "ba61e3fe",
   "metadata": {},
   "source": [
    "Cette première analyse donne un aperçu des différences qu'il peut y avoir entre les individus moyen (faux et vrai billet). La différence significative se situe principalement sur les variables margin_low et length. "
   ]
  },
  {
   "cell_type": "markdown",
   "id": "a5cd520c",
   "metadata": {},
   "source": [
    "## 2. Matrice des corrélations"
   ]
  },
  {
   "cell_type": "code",
   "execution_count": 110,
   "id": "3d965108",
   "metadata": {},
   "outputs": [
    {
     "data": {
      "image/png": "[encoded data removed]",
      "text/plain": [
       "<Figure size 720x576 with 2 Axes>"
      ]
     },
     "metadata": {},
     "output_type": "display_data"
    }
   ],
   "source": [
    "def create_correlation_matrix(data):\n",
    "    # Calculer la matrice des corrélations\n",
    "    correlation_matrix = billets_completed.corr()\n",
    "\n",
    "    # Créer un heatmap de la matrice des corrélations\n",
    "    sns.set(style=\"white\")\n",
    "    plt.figure(figsize=(10, 8))\n",
    "    sns.heatmap(correlation_matrix, annot=True, cmap=\"coolwarm\")\n",
    "\n",
    "    # Ajouter un titre\n",
    "    plt.title(\"Matrice des corrélations\")\n",
    "\n",
    "    # Afficher le graphique\n",
    "    plt.show()\n",
    "\n",
    "# Utilisation de la fonction avec le DataFrame data\n",
    "create_correlation_matrix(billets_completed)"
   ]
  },
  {
   "cell_type": "markdown",
   "id": "d2ba3c3b",
   "metadata": {},
   "source": [
    "## 3. Entrainement du modèle"
   ]
  },
  {
   "cell_type": "code",
   "execution_count": 111,
   "id": "f1b7835a",
   "metadata": {},
   "outputs": [
    {
     "name": "stdout",
     "output_type": "stream",
     "text": [
      "R² : 0.674\n",
      "RMSE : 0.3707\n",
      "MAE : 0.2895\n"
     ]
    }
   ],
   "source": [
    "# Entrainement du DF\n",
    "\n",
    "X = billets_completed[['is_genuine','diagonal','height_left','height_right','margin_up','length']]\n",
    "y = billets_completed['margin_low']\n",
    "\n",
    "model = LinearRegression()\n",
    "\n",
    "from sklearn.model_selection import train_test_split\n",
    "\n",
    "X_train, X_test, y_train, y_test = train_test_split(X, y, test_size=0.2, random_state=42)\n",
    "\n",
    "model.fit(X_train, y_train)\n",
    "\n",
    "y_pred = model.predict(X_test)\n",
    "\n",
    "from sklearn.metrics import r2_score, mean_squared_error, mean_absolute_error\n",
    "\n",
    "r2 = round(r2_score(y_test, y_pred),4)\n",
    "rmse = round(np.sqrt(mean_squared_error(y_test, y_pred)),4)\n",
    "mae = round(mean_absolute_error(y_test, y_pred),4)\n",
    "\n",
    "print(f\"R² : {r2}\")\n",
    "print(f\"RMSE : {rmse}\")\n",
    "print(f\"MAE : {mae}\")\n"
   ]
  },
  {
   "cell_type": "markdown",
   "id": "5fce5499",
   "metadata": {},
   "source": [
    "- R² (Coefficient de détermination) : Il mesure la proportion de la variance de la variable dépendante (\"margin_low\") expliquée par le modèle. Le modèle explique environ 67.4% de la variance de \"margin_low\".\n",
    "\n",
    "\n",
    "- RMSE (Erreur quadratique moyenne) : C'est la racine carrée de la moyenne des carrés des erreurs entre les valeurs observées et les valeurs prédites. Le RMSE indique en moyenne une erreur de prédiction d'environ 0.3707 unités pour \"margin_low\".\n",
    "\n",
    "\n",
    "- MAE (Erreur absolue moyenne) : Il mesure la moyenne des valeurs absolues des erreurs entre les valeurs observées et les valeurs prédites. Le MAE indique en moyenne une erreur absolue de prédiction d'environ 0.2895 unités pour \"margin_low\"."
   ]
  },
  {
   "cell_type": "markdown",
   "id": "dc0eabc2",
   "metadata": {},
   "source": [
    "## 4. Application du modèle"
   ]
  },
  {
   "cell_type": "code",
   "execution_count": 112,
   "id": "edefefa0",
   "metadata": {},
   "outputs": [
    {
     "name": "stderr",
     "output_type": "stream",
     "text": [
      "/var/folders/gf/qtztgrtj40z_g_1rxg96hcqw0000gn/T/ipykernel_1622/1700944157.py:13: SettingWithCopyWarning: \n",
      "A value is trying to be set on a copy of a slice from a DataFrame.\n",
      "Try using .loc[row_indexer,col_indexer] = value instead\n",
      "\n",
      "See the caveats in the documentation: https://pandas.pydata.org/pandas-docs/stable/user_guide/indexing.html#returning-a-view-versus-a-copy\n",
      "  billets_to_predict['margin_low'] = predicted_values\n"
     ]
    },
    {
     "data": {
      "text/html": [
       "<div>\n",
       "<style scoped>\n",
       "    .dataframe tbody tr th:only-of-type {\n",
       "        vertical-align: middle;\n",
       "    }\n",
       "\n",
       "    .dataframe tbody tr th {\n",
       "        vertical-align: top;\n",
       "    }\n",
       "\n",
       "    .dataframe thead th {\n",
       "        text-align: right;\n",
       "    }\n",
       "</style>\n",
       "<table border=\"1\" class=\"dataframe\">\n",
       "  <thead>\n",
       "    <tr style=\"text-align: right;\">\n",
       "      <th></th>\n",
       "      <th>is_genuine</th>\n",
       "      <th>diagonal</th>\n",
       "      <th>height_left</th>\n",
       "      <th>height_right</th>\n",
       "      <th>margin_low</th>\n",
       "      <th>margin_up</th>\n",
       "      <th>length</th>\n",
       "    </tr>\n",
       "  </thead>\n",
       "  <tbody>\n",
       "    <tr>\n",
       "      <th>72</th>\n",
       "      <td>1</td>\n",
       "      <td>171.94</td>\n",
       "      <td>103.89</td>\n",
       "      <td>103.45</td>\n",
       "      <td>4.069384</td>\n",
       "      <td>3.25</td>\n",
       "      <td>112.79</td>\n",
       "    </tr>\n",
       "    <tr>\n",
       "      <th>99</th>\n",
       "      <td>1</td>\n",
       "      <td>171.93</td>\n",
       "      <td>104.07</td>\n",
       "      <td>104.18</td>\n",
       "      <td>4.103364</td>\n",
       "      <td>3.14</td>\n",
       "      <td>113.08</td>\n",
       "    </tr>\n",
       "    <tr>\n",
       "      <th>151</th>\n",
       "      <td>1</td>\n",
       "      <td>172.07</td>\n",
       "      <td>103.80</td>\n",
       "      <td>104.38</td>\n",
       "      <td>4.130311</td>\n",
       "      <td>3.02</td>\n",
       "      <td>112.93</td>\n",
       "    </tr>\n",
       "    <tr>\n",
       "      <th>197</th>\n",
       "      <td>1</td>\n",
       "      <td>171.45</td>\n",
       "      <td>103.66</td>\n",
       "      <td>103.80</td>\n",
       "      <td>3.993962</td>\n",
       "      <td>3.62</td>\n",
       "      <td>113.27</td>\n",
       "    </tr>\n",
       "    <tr>\n",
       "      <th>241</th>\n",
       "      <td>1</td>\n",
       "      <td>171.83</td>\n",
       "      <td>104.14</td>\n",
       "      <td>104.06</td>\n",
       "      <td>4.127607</td>\n",
       "      <td>3.02</td>\n",
       "      <td>112.36</td>\n",
       "    </tr>\n",
       "    <tr>\n",
       "      <th>...</th>\n",
       "      <td>...</td>\n",
       "      <td>...</td>\n",
       "      <td>...</td>\n",
       "      <td>...</td>\n",
       "      <td>...</td>\n",
       "      <td>...</td>\n",
       "      <td>...</td>\n",
       "    </tr>\n",
       "    <tr>\n",
       "      <th>1495</th>\n",
       "      <td>0</td>\n",
       "      <td>171.75</td>\n",
       "      <td>104.38</td>\n",
       "      <td>104.17</td>\n",
       "      <td>4.420000</td>\n",
       "      <td>3.09</td>\n",
       "      <td>111.28</td>\n",
       "    </tr>\n",
       "    <tr>\n",
       "      <th>1496</th>\n",
       "      <td>0</td>\n",
       "      <td>172.19</td>\n",
       "      <td>104.63</td>\n",
       "      <td>104.44</td>\n",
       "      <td>5.270000</td>\n",
       "      <td>3.37</td>\n",
       "      <td>110.97</td>\n",
       "    </tr>\n",
       "    <tr>\n",
       "      <th>1497</th>\n",
       "      <td>0</td>\n",
       "      <td>171.80</td>\n",
       "      <td>104.01</td>\n",
       "      <td>104.12</td>\n",
       "      <td>5.510000</td>\n",
       "      <td>3.36</td>\n",
       "      <td>111.95</td>\n",
       "    </tr>\n",
       "    <tr>\n",
       "      <th>1498</th>\n",
       "      <td>0</td>\n",
       "      <td>172.06</td>\n",
       "      <td>104.28</td>\n",
       "      <td>104.06</td>\n",
       "      <td>5.170000</td>\n",
       "      <td>3.46</td>\n",
       "      <td>112.25</td>\n",
       "    </tr>\n",
       "    <tr>\n",
       "      <th>1499</th>\n",
       "      <td>0</td>\n",
       "      <td>171.47</td>\n",
       "      <td>104.15</td>\n",
       "      <td>103.82</td>\n",
       "      <td>4.630000</td>\n",
       "      <td>3.37</td>\n",
       "      <td>112.07</td>\n",
       "    </tr>\n",
       "  </tbody>\n",
       "</table>\n",
       "<p>1500 rows × 7 columns</p>\n",
       "</div>"
      ],
      "text/plain": [
       "      is_genuine  diagonal  height_left  height_right  margin_low  margin_up  \\\n",
       "72             1    171.94       103.89        103.45    4.069384       3.25   \n",
       "99             1    171.93       104.07        104.18    4.103364       3.14   \n",
       "151            1    172.07       103.80        104.38    4.130311       3.02   \n",
       "197            1    171.45       103.66        103.80    3.993962       3.62   \n",
       "241            1    171.83       104.14        104.06    4.127607       3.02   \n",
       "...          ...       ...          ...           ...         ...        ...   \n",
       "1495           0    171.75       104.38        104.17    4.420000       3.09   \n",
       "1496           0    172.19       104.63        104.44    5.270000       3.37   \n",
       "1497           0    171.80       104.01        104.12    5.510000       3.36   \n",
       "1498           0    172.06       104.28        104.06    5.170000       3.46   \n",
       "1499           0    171.47       104.15        103.82    4.630000       3.37   \n",
       "\n",
       "      length  \n",
       "72    112.79  \n",
       "99    113.08  \n",
       "151   112.93  \n",
       "197   113.27  \n",
       "241   112.36  \n",
       "...      ...  \n",
       "1495  111.28  \n",
       "1496  110.97  \n",
       "1497  111.95  \n",
       "1498  112.25  \n",
       "1499  112.07  \n",
       "\n",
       "[1500 rows x 7 columns]"
      ]
     },
     "execution_count": 112,
     "metadata": {},
     "output_type": "execute_result"
    }
   ],
   "source": [
    "X = billets_completed[['is_genuine','diagonal','height_left','height_right','margin_up','length']]\n",
    "y = billets_completed['margin_low']\n",
    "\n",
    "\n",
    "model = LinearRegression()\n",
    "model.fit(X_train, y_train)\n",
    "\n",
    "# Prédiction des valeurs manquantes\n",
    "X_test = billets_to_predict[['is_genuine','diagonal','height_left','height_right','margin_up','length']]\n",
    "predicted_values = model.predict(X_test)\n",
    "\n",
    "# Remplissage des valeurs prédites dans le DataFrame initial\n",
    "billets_to_predict['margin_low'] = predicted_values\n",
    "\n",
    "# Fusion des données avec valeurs prédites et sans valeurs manquantes\n",
    "billets_new = pd.concat([billets_to_predict, billets_completed])\n",
    "\n",
    "billets_new\n"
   ]
  },
  {
   "cell_type": "markdown",
   "id": "1c0a3c6a",
   "metadata": {},
   "source": [
    "## 5. Tests statistiques"
   ]
  },
  {
   "cell_type": "markdown",
   "id": "b01e2947",
   "metadata": {},
   "source": [
    "### a. Colinéarités des variables"
   ]
  },
  {
   "cell_type": "code",
   "execution_count": 113,
   "id": "f7cb2254",
   "metadata": {},
   "outputs": [
    {
     "name": "stdout",
     "output_type": "stream",
     "text": [
      "       Variable            VIF\n",
      "0         const  598184.370339\n",
      "1    is_genuine       6.422020\n",
      "2      diagonal       1.027481\n",
      "3   height_left       1.181823\n",
      "4  height_right       1.318171\n",
      "5    margin_low       2.644137\n",
      "6     margin_up       1.598746\n",
      "7        length       3.593640\n"
     ]
    }
   ],
   "source": [
    "X = billets_new[['is_genuine','diagonal','height_left','height_right','margin_low','margin_up','length']] \n",
    "X = add_constant(X)\n",
    "\n",
    "# Calcul des VIF pour chaque variable\n",
    "vif_data = pd.DataFrame()\n",
    "vif_data[\"Variable\"] = X.columns\n",
    "vif_data[\"VIF\"] = [variance_inflation_factor(X.values, i) for i in range(X.shape[1])]\n",
    "\n",
    "print(vif_data)\n"
   ]
  },
  {
   "cell_type": "markdown",
   "id": "faf5c6f4",
   "metadata": {},
   "source": [
    "La colinéarité des variables est le phénomère statistique pour lequel deux variables sont fortement liés par une relation linéaire. \n",
    "\n",
    "Elle peut avoir plusieurs conséquences négatives lors de l'estimation du modèle de régression.\n",
    "\n",
    "Le calcul du VIF (Variance Inflation Factor) permet d'identifier les colinéarités des variables. Un VIF inférieur à 10 indique une colinéarité modérée. "
   ]
  },
  {
   "cell_type": "markdown",
   "id": "de10f851",
   "metadata": {},
   "source": [
    "### b. Homoscédasticité"
   ]
  },
  {
   "cell_type": "code",
   "execution_count": 114,
   "id": "b538b0fd",
   "metadata": {},
   "outputs": [
    {
     "name": "stdout",
     "output_type": "stream",
     "text": [
      "P-value du test de Breusch-Pagan : 6.654972416299406e-16\n"
     ]
    }
   ],
   "source": [
    "# Calcul des résidus\n",
    "residuals = y_test - y_pred\n",
    "\n",
    "# Ajout des résidus au DataFrame initial\n",
    "billets_new_bpt = billets_completed.copy()\n",
    "billets_new_bpt['residuals'] = residuals\n",
    "\n",
    "billets_new_bpt = billets_new_bpt.dropna()  \n",
    "billets_new_bpt = billets_new_bpt.replace([np.inf, -np.inf], np.nan).dropna()\n",
    "\n",
    "# Sélection des variables pour le test Breusch-Pagan\n",
    "X_bp = billets_new_bpt[['is_genuine', 'diagonal', 'height_left', 'height_right', 'margin_up', 'length', 'residuals']]\n",
    "\n",
    "# Test de Breusch-Pagan\n",
    "lm, p_value, fvalue, f_pvalue = het_breuschpagan(residuals, X_bp)\n",
    "print(f\"P-value du test de Breusch-Pagan : {p_value}\")\n"
   ]
  },
  {
   "cell_type": "markdown",
   "id": "d6a4f335",
   "metadata": {},
   "source": [
    "- P-value < 0.05 : On rejette l'hypothèse nulle d'homoscédasticité.\n",
    "\n",
    "- P-value ≥ 0.05 : On ne rejette pas l'hypothèse nulle, ce qui suggère que l'homoscédasticité peut être présente.\n",
    "\n",
    "Dans ce cas, la p-value étant très proche de zéro, les preuves statistiques sont suffisantes pour rejeter l'hypothèse nulle d'homoscédasticité. Cela indique que l'hétéroscédasticité (une variation inégale de la variance des résidus le long de la plage des valeurs prédites) est présente dans le modèle de régression.\n",
    "\n",
    "Il y a donc un risque que la prédiction ne soit pas complètement fiable. "
   ]
  },
  {
   "cell_type": "markdown",
   "id": "d1e3208e",
   "metadata": {},
   "source": [
    "### c. Normilité des résidus"
   ]
  },
  {
   "cell_type": "code",
   "execution_count": 115,
   "id": "ef30ed1e",
   "metadata": {},
   "outputs": [
    {
     "name": "stdout",
     "output_type": "stream",
     "text": [
      "Statistique de test Shapiro-Wilk : 0.9906145930290222\n",
      "P-value du test Shapiro-Wilk : 0.057557232677936554\n",
      "Les résidus suivent une distribution normale (nous ne pouvons pas rejeter l'hypothèse nulle).\n"
     ]
    }
   ],
   "source": [
    "# Récupérer les résidus\n",
    "residuals = billets_new_bpt['residuals']\n",
    "\n",
    "# Test de normalité de Shapiro-Wilk\n",
    "statistic, p_value = shapiro(residuals)\n",
    "\n",
    "print(f\"Statistique de test Shapiro-Wilk : {statistic}\")\n",
    "print(f\"P-value du test Shapiro-Wilk : {p_value}\")\n",
    "\n",
    "# Interprétation du test de normalité\n",
    "if p_value > 0.05:\n",
    "    print(\"Les résidus suivent une distribution normale (nous ne pouvons pas rejeter l'hypothèse nulle).\")\n",
    "else:\n",
    "    print(\"Les résidus ne suivent pas une distribution normale (nous rejetons l'hypothèse nulle).\")\n"
   ]
  },
  {
   "cell_type": "markdown",
   "id": "d1f06361",
   "metadata": {},
   "source": [
    "Le résultat du test est très rassurant car la non-normalités des résidus aurait eu les impacts suivant : \n",
    "\n",
    "- Validité des tests statistiques : Si les résidus ne suivent pas une distribution normale, les tests statistiques basés sur cette supposition peuvent produire des résultats biaisés.\n",
    "\n",
    "\n",
    "- Validité des intervalles de prédiction : La normalité des résidus est également importante pour les intervalles de prédiction. Les intervalles de prédiction supposent également une distribution normale des résidus.\n",
    "\n",
    "\n",
    "- Fiabilité des prédictions : La non-normalité des résidus peut affecter la fiabilité des prédictions. Les modèles de régression basés sur des résidus non normaux peuvent produire des intervalles de prédiction qui ne capturent pas correctement l'incertitude associée aux prédictions."
   ]
  },
  {
   "cell_type": "markdown",
   "id": "3e9647aa",
   "metadata": {},
   "source": [
    "# Prédiction des faux billets"
   ]
  },
  {
   "cell_type": "markdown",
   "id": "680480d1",
   "metadata": {},
   "source": [
    "## 1. Algorithme de K-means"
   ]
  },
  {
   "cell_type": "code",
   "execution_count": 116,
   "id": "b898ee7a",
   "metadata": {},
   "outputs": [
    {
     "data": {
      "image/png": "[encoded data removed]",
      "text/plain": [
       "<Figure size 432x288 with 1 Axes>"
      ]
     },
     "metadata": {},
     "output_type": "display_data"
    }
   ],
   "source": [
    "# Sélection des variables pertinentes pour le clustering\n",
    "X_cluster = billets_new[['is_genuine', 'diagonal', 'height_left', 'height_right', 'margin_low' ,'margin_up', 'length']]\n",
    "\n",
    "# Application du K-means avec K=2\n",
    "kmeans = KMeans(n_clusters=2, random_state=42)\n",
    "billets_new['cluster_kmeans'] = kmeans.fit_predict(X_cluster)\n",
    "\n",
    "# Obtenir les centroids\n",
    "centroids = kmeans.cluster_centers_\n",
    "\n",
    "# Visualisation des clusters en fonction de deux variables\n",
    "plt.scatter(billets_new['diagonal'], billets_new['margin_low'], c=billets_new['cluster_kmeans'], cmap='viridis', label='Data points')\n",
    "plt.scatter(centroids[:, 1], centroids[:, 4], c='red', marker='X', s=20, label='Centroids')\n",
    "plt.title('K-means Clustering (K=2)')\n",
    "plt.xlabel('Diagonal')\n",
    "plt.ylabel('Margin low')\n",
    "plt.legend()\n",
    "plt.show()"
   ]
  },
  {
   "cell_type": "code",
   "execution_count": 117,
   "id": "b0e62150",
   "metadata": {},
   "outputs": [
    {
     "data": {
      "image/png": "[encoded data removed]",
      "text/plain": [
       "<Figure size 576x432 with 2 Axes>"
      ]
     },
     "metadata": {},
     "output_type": "display_data"
    },
    {
     "name": "stdout",
     "output_type": "stream",
     "text": [
      "Accuracy K-means : 0.994\n"
     ]
    }
   ],
   "source": [
    "# Création du DataFrame avec les étiquettes réelles et prédites\n",
    "df_result = pd.DataFrame({'Vraie Valeur': billets_new['is_genuine'], 'Cluster Assigné': billets_new['cluster_kmeans']})\n",
    "\n",
    "# Création de la matrice de confusion\n",
    "conf_matrix = confusion_matrix(df_result['Vraie Valeur'], df_result['Cluster Assigné'])\n",
    "\n",
    "# Calcul de l'accuracy\n",
    "acc = accuracy_score(df_result['Vraie Valeur'], df_result['Cluster Assigné'])\n",
    "\n",
    "# Affichage de la matrice de confusion\n",
    "plt.figure(figsize=(8, 6))\n",
    "sns.heatmap(conf_matrix, annot=True, fmt='d', cmap='Blues', xticklabels=['Vrai', 'Faux'], yticklabels=['Vrai', 'Faux'])\n",
    "plt.xlabel('Prédiction')\n",
    "plt.ylabel('Vraie Valeur')\n",
    "plt.title('Matrice de Confusion K-means')\n",
    "plt.show()\n",
    "\n",
    "# Affichage de l'accuracy\n",
    "print(f\"Accuracy K-means : {acc}\")"
   ]
  },
  {
   "cell_type": "markdown",
   "id": "559e9d65",
   "metadata": {},
   "source": [
    "## 2. Régression logistique"
   ]
  },
  {
   "cell_type": "markdown",
   "id": "116fd0cc",
   "metadata": {},
   "source": [
    "###  a. Test du modèle sur échantillon"
   ]
  },
  {
   "cell_type": "code",
   "execution_count": 118,
   "id": "0866273a",
   "metadata": {},
   "outputs": [
    {
     "name": "stdout",
     "output_type": "stream",
     "text": [
      "Accuracy ensemble test : 0.9967\n"
     ]
    }
   ],
   "source": [
    "# Initialisation et entraînement du modèle\n",
    "\n",
    "X = billets_new.drop(['is_genuine', 'cluster_kmeans'], axis=1) \n",
    "y = billets_new['is_genuine']\n",
    "\n",
    "\n",
    "X_train, X_test, y_train, y_test = train_test_split(X, y, test_size=0.2, random_state=42)\n",
    "\n",
    "\n",
    "logistic_model = LogisticRegression()\n",
    "logistic_model.fit(X_train, y_train)\n",
    "\n",
    "# Prédictions sur l'ensemble test\n",
    "y_pred = logistic_model.predict(X_test)\n",
    "\n",
    "# Calcul de l'accuracy et affichage\n",
    "acc_logistic = round(accuracy_score(y_test, y_pred),4)\n",
    "print(f'Accuracy ensemble test : {acc_logistic}')\n"
   ]
  },
  {
   "cell_type": "markdown",
   "id": "3b5e9a83",
   "metadata": {},
   "source": [
    "### b. Application du modèle sur l'ensemble complet"
   ]
  },
  {
   "cell_type": "code",
   "execution_count": 119,
   "id": "6926c80b",
   "metadata": {},
   "outputs": [
    {
     "data": {
      "image/png": "[encoded data removed]",
      "text/plain": [
       "<Figure size 576x432 with 2 Axes>"
      ]
     },
     "metadata": {},
     "output_type": "display_data"
    },
    {
     "name": "stdout",
     "output_type": "stream",
     "text": [
      "Accuracy Régression Logistique: 0.9907\n"
     ]
    }
   ],
   "source": [
    "#Application du modèle sur l'ensemble complet\n",
    "logistic_model.fit(X, y)\n",
    "billets_new['cluster_RL'] = logistic_model.predict(X)\n",
    "\n",
    "# Calcul de l'accuracy et affichage de la matrice de confusion\n",
    "acc_logistic_full = round(accuracy_score(y, billets_new['cluster_RL']),4)\n",
    "conf_matrix_logistic_full = confusion_matrix(y, billets_new['cluster_RL'])\n",
    "\n",
    "\n",
    "plt.figure(figsize=(8, 6))\n",
    "sns.heatmap(conf_matrix_logistic_full, annot=True, fmt='d', cmap='Blues', xticklabels=['Vrai', 'Faux'], yticklabels=['Vrai', 'Faux'])\n",
    "plt.xlabel('Prédiction')\n",
    "plt.ylabel('Vraie Valeur')\n",
    "plt.title('Matrice de Confusion Régression Logistique')\n",
    "plt.show()\n",
    "\n",
    "print(f'Accuracy Régression Logistique: {acc_logistic_full}')"
   ]
  },
  {
   "cell_type": "markdown",
   "id": "29b37bad",
   "metadata": {},
   "source": [
    "### c. Ajustement des hyerparamètres"
   ]
  },
  {
   "cell_type": "code",
   "execution_count": 120,
   "id": "8d3ae2ba",
   "metadata": {},
   "outputs": [
    {
     "name": "stderr",
     "output_type": "stream",
     "text": [
      "/Users/nassim/opt/anaconda3/lib/python3.9/site-packages/scipy/optimize/_linesearch.py:457: LineSearchWarning: The line search algorithm did not converge\n",
      "  warn('The line search algorithm did not converge', LineSearchWarning)\n",
      "/Users/nassim/opt/anaconda3/lib/python3.9/site-packages/scipy/optimize/_linesearch.py:306: LineSearchWarning: The line search algorithm did not converge\n",
      "  warn('The line search algorithm did not converge', LineSearchWarning)\n"
     ]
    },
    {
     "data": {
      "image/png": "[encoded data removed]",
      "text/plain": [
       "<Figure size 576x432 with 2 Axes>"
      ]
     },
     "metadata": {},
     "output_type": "display_data"
    },
    {
     "name": "stdout",
     "output_type": "stream",
     "text": [
      "Accuracy Régression Logistique (Hyperparamètres Manuels): 0.9913\n"
     ]
    }
   ],
   "source": [
    "penalty = 'l2'  # Choix entre : 'l1', 'l2'\n",
    "C_value = 1.0  # Valeur de l'inverse de la force de régularisation\n",
    "solver = 'newton-cg'  # Choix entre : 'liblinear', 'newton-cg', 'lbfgs', 'sag', 'saga'\n",
    "max_iter = 100  # Nombre maximal d'itérations\n",
    "\n",
    "# Initialisation du modèle de régression logistique avec les hyperparamètres choisis\n",
    "logistic_model = LogisticRegression(penalty=penalty, C=C_value, solver=solver, max_iter=max_iter)\n",
    "\n",
    "# Adaptation du modèle aux données\n",
    "logistic_model.fit(X, y)\n",
    "\n",
    "# Utilisation du modèle pour faire des prédictions\n",
    "billets_new['cluster_RL'] = logistic_model.predict(X)\n",
    "\n",
    "# Calcul de l'accuracy et affichage de la matrice de confusion\n",
    "acc_logistic_manual = round(accuracy_score(y, billets_new['cluster_RL']), 4)\n",
    "conf_matrix_logistic_manual = confusion_matrix(y, billets_new['cluster_RL'])\n",
    "\n",
    "# Affichage de la matrice de confusion\n",
    "plt.figure(figsize=(8, 6))\n",
    "sns.heatmap(conf_matrix_logistic_manual, annot=True, fmt='d', cmap='Blues', xticklabels=['Vrai', 'Faux'], yticklabels=['Vrai', 'Faux'])\n",
    "plt.xlabel('Prédiction')\n",
    "plt.ylabel('Vraie Valeur')\n",
    "plt.title('Matrice de Confusion Régression Logistique (Hyperparamètres Manuels)')\n",
    "plt.show()\n",
    "\n",
    "print(f'Accuracy Régression Logistique (Hyperparamètres Manuels): {acc_logistic_manual}')"
   ]
  },
  {
   "cell_type": "markdown",
   "id": "fc827af4",
   "metadata": {},
   "source": [
    "# Conclusion"
   ]
  },
  {
   "cell_type": "markdown",
   "id": "4107bbde",
   "metadata": {},
   "source": [
    "Les 2 algorithmes affichent des résultats plus que satisfaisant avec des accuracy atteignant les 99%. \n",
    "Il semble néanmoins que l'algorithme de K-means soit plus performant dans notre cas (99,4% vs 99,1%). "
   ]
  },
  {
   "cell_type": "markdown",
   "id": "911371c8",
   "metadata": {},
   "source": [
    "# Test des algorithmes en direct"
   ]
  },
  {
   "cell_type": "markdown",
   "id": "5b852515",
   "metadata": {},
   "source": [
    "## 1. Chargement du dataframe"
   ]
  },
  {
   "cell_type": "code",
   "execution_count": 121,
   "id": "16c06b71",
   "metadata": {},
   "outputs": [
    {
     "data": {
      "text/html": [
       "<div>\n",
       "<style scoped>\n",
       "    .dataframe tbody tr th:only-of-type {\n",
       "        vertical-align: middle;\n",
       "    }\n",
       "\n",
       "    .dataframe tbody tr th {\n",
       "        vertical-align: top;\n",
       "    }\n",
       "\n",
       "    .dataframe thead th {\n",
       "        text-align: right;\n",
       "    }\n",
       "</style>\n",
       "<table border=\"1\" class=\"dataframe\">\n",
       "  <thead>\n",
       "    <tr style=\"text-align: right;\">\n",
       "      <th></th>\n",
       "      <th>diagonal</th>\n",
       "      <th>height_left</th>\n",
       "      <th>height_right</th>\n",
       "      <th>margin_low</th>\n",
       "      <th>margin_up</th>\n",
       "      <th>length</th>\n",
       "      <th>id</th>\n",
       "    </tr>\n",
       "  </thead>\n",
       "  <tbody>\n",
       "    <tr>\n",
       "      <th>0</th>\n",
       "      <td>172.09</td>\n",
       "      <td>103.95</td>\n",
       "      <td>103.73</td>\n",
       "      <td>4.39</td>\n",
       "      <td>3.09</td>\n",
       "      <td>113.19</td>\n",
       "      <td>B_1</td>\n",
       "    </tr>\n",
       "    <tr>\n",
       "      <th>1</th>\n",
       "      <td>171.52</td>\n",
       "      <td>104.17</td>\n",
       "      <td>104.03</td>\n",
       "      <td>5.27</td>\n",
       "      <td>3.16</td>\n",
       "      <td>111.82</td>\n",
       "      <td>B_2</td>\n",
       "    </tr>\n",
       "    <tr>\n",
       "      <th>2</th>\n",
       "      <td>171.78</td>\n",
       "      <td>103.80</td>\n",
       "      <td>103.75</td>\n",
       "      <td>3.81</td>\n",
       "      <td>3.24</td>\n",
       "      <td>113.39</td>\n",
       "      <td>B_3</td>\n",
       "    </tr>\n",
       "    <tr>\n",
       "      <th>3</th>\n",
       "      <td>172.02</td>\n",
       "      <td>104.08</td>\n",
       "      <td>103.99</td>\n",
       "      <td>5.57</td>\n",
       "      <td>3.30</td>\n",
       "      <td>111.10</td>\n",
       "      <td>B_4</td>\n",
       "    </tr>\n",
       "    <tr>\n",
       "      <th>4</th>\n",
       "      <td>171.79</td>\n",
       "      <td>104.34</td>\n",
       "      <td>104.37</td>\n",
       "      <td>5.00</td>\n",
       "      <td>3.07</td>\n",
       "      <td>111.87</td>\n",
       "      <td>B_5</td>\n",
       "    </tr>\n",
       "  </tbody>\n",
       "</table>\n",
       "</div>"
      ],
      "text/plain": [
       "   diagonal  height_left  height_right  margin_low  margin_up  length   id\n",
       "0    172.09       103.95        103.73        4.39       3.09  113.19  B_1\n",
       "1    171.52       104.17        104.03        5.27       3.16  111.82  B_2\n",
       "2    171.78       103.80        103.75        3.81       3.24  113.39  B_3\n",
       "3    172.02       104.08        103.99        5.57       3.30  111.10  B_4\n",
       "4    171.79       104.34        104.37        5.00       3.07  111.87  B_5"
      ]
     },
     "execution_count": 121,
     "metadata": {},
     "output_type": "execute_result"
    }
   ],
   "source": [
    "billets_prod = pd.read_csv('billets_test.csv', delimiter = ',')\n",
    "billets_prod"
   ]
  },
  {
   "cell_type": "markdown",
   "id": "1218624d",
   "metadata": {},
   "source": [
    "## 2. Régression logistique"
   ]
  },
  {
   "cell_type": "code",
   "execution_count": 122,
   "id": "9b901a0f",
   "metadata": {},
   "outputs": [
    {
     "data": {
      "text/html": [
       "<div>\n",
       "<style scoped>\n",
       "    .dataframe tbody tr th:only-of-type {\n",
       "        vertical-align: middle;\n",
       "    }\n",
       "\n",
       "    .dataframe tbody tr th {\n",
       "        vertical-align: top;\n",
       "    }\n",
       "\n",
       "    .dataframe thead th {\n",
       "        text-align: right;\n",
       "    }\n",
       "</style>\n",
       "<table border=\"1\" class=\"dataframe\">\n",
       "  <thead>\n",
       "    <tr style=\"text-align: right;\">\n",
       "      <th></th>\n",
       "      <th>diagonal</th>\n",
       "      <th>height_left</th>\n",
       "      <th>height_right</th>\n",
       "      <th>margin_low</th>\n",
       "      <th>margin_up</th>\n",
       "      <th>length</th>\n",
       "      <th>cluster_RL</th>\n",
       "    </tr>\n",
       "  </thead>\n",
       "  <tbody>\n",
       "    <tr>\n",
       "      <th>0</th>\n",
       "      <td>172.09</td>\n",
       "      <td>103.95</td>\n",
       "      <td>103.73</td>\n",
       "      <td>4.39</td>\n",
       "      <td>3.09</td>\n",
       "      <td>113.19</td>\n",
       "      <td>1</td>\n",
       "    </tr>\n",
       "    <tr>\n",
       "      <th>1</th>\n",
       "      <td>171.52</td>\n",
       "      <td>104.17</td>\n",
       "      <td>104.03</td>\n",
       "      <td>5.27</td>\n",
       "      <td>3.16</td>\n",
       "      <td>111.82</td>\n",
       "      <td>0</td>\n",
       "    </tr>\n",
       "    <tr>\n",
       "      <th>2</th>\n",
       "      <td>171.78</td>\n",
       "      <td>103.80</td>\n",
       "      <td>103.75</td>\n",
       "      <td>3.81</td>\n",
       "      <td>3.24</td>\n",
       "      <td>113.39</td>\n",
       "      <td>1</td>\n",
       "    </tr>\n",
       "    <tr>\n",
       "      <th>3</th>\n",
       "      <td>172.02</td>\n",
       "      <td>104.08</td>\n",
       "      <td>103.99</td>\n",
       "      <td>5.57</td>\n",
       "      <td>3.30</td>\n",
       "      <td>111.10</td>\n",
       "      <td>0</td>\n",
       "    </tr>\n",
       "    <tr>\n",
       "      <th>4</th>\n",
       "      <td>171.79</td>\n",
       "      <td>104.34</td>\n",
       "      <td>104.37</td>\n",
       "      <td>5.00</td>\n",
       "      <td>3.07</td>\n",
       "      <td>111.87</td>\n",
       "      <td>0</td>\n",
       "    </tr>\n",
       "  </tbody>\n",
       "</table>\n",
       "</div>"
      ],
      "text/plain": [
       "   diagonal  height_left  height_right  margin_low  margin_up  length  \\\n",
       "0    172.09       103.95        103.73        4.39       3.09  113.19   \n",
       "1    171.52       104.17        104.03        5.27       3.16  111.82   \n",
       "2    171.78       103.80        103.75        3.81       3.24  113.39   \n",
       "3    172.02       104.08        103.99        5.57       3.30  111.10   \n",
       "4    171.79       104.34        104.37        5.00       3.07  111.87   \n",
       "\n",
       "   cluster_RL  \n",
       "0           1  \n",
       "1           0  \n",
       "2           1  \n",
       "3           0  \n",
       "4           0  "
      ]
     },
     "execution_count": 122,
     "metadata": {},
     "output_type": "execute_result"
    }
   ],
   "source": [
    "billets_prod.drop('id', axis = 1, inplace = True)\n",
    "test = logistic_model.predict(billets_prod)\n",
    "billets_prod['cluster_RL'] = test\n",
    "billets_prod"
   ]
  },
  {
   "cell_type": "markdown",
   "id": "60fcfbf7",
   "metadata": {},
   "source": [
    "## 3. K-means"
   ]
  },
  {
   "cell_type": "code",
   "execution_count": 123,
   "id": "9e0029d2",
   "metadata": {},
   "outputs": [],
   "source": [
    "X_cluster = billets_prod[['diagonal', 'height_left', 'height_right', 'margin_low' ,'margin_up', 'length']]\n",
    "\n",
    "# Application du K-means avec K=2\n",
    "kmeans = KMeans(n_clusters=2, random_state=42)\n",
    "billets_prod['cluster_kmeans'] = kmeans.fit_predict(X_cluster)"
   ]
  },
  {
   "cell_type": "code",
   "execution_count": 124,
   "id": "1190fbea",
   "metadata": {},
   "outputs": [
    {
     "data": {
      "text/html": [
       "<div>\n",
       "<style scoped>\n",
       "    .dataframe tbody tr th:only-of-type {\n",
       "        vertical-align: middle;\n",
       "    }\n",
       "\n",
       "    .dataframe tbody tr th {\n",
       "        vertical-align: top;\n",
       "    }\n",
       "\n",
       "    .dataframe thead th {\n",
       "        text-align: right;\n",
       "    }\n",
       "</style>\n",
       "<table border=\"1\" class=\"dataframe\">\n",
       "  <thead>\n",
       "    <tr style=\"text-align: right;\">\n",
       "      <th></th>\n",
       "      <th>diagonal</th>\n",
       "      <th>height_left</th>\n",
       "      <th>height_right</th>\n",
       "      <th>margin_low</th>\n",
       "      <th>margin_up</th>\n",
       "      <th>length</th>\n",
       "      <th>cluster_RL</th>\n",
       "      <th>cluster_kmeans</th>\n",
       "    </tr>\n",
       "  </thead>\n",
       "  <tbody>\n",
       "    <tr>\n",
       "      <th>0</th>\n",
       "      <td>172.09</td>\n",
       "      <td>103.95</td>\n",
       "      <td>103.73</td>\n",
       "      <td>4.39</td>\n",
       "      <td>3.09</td>\n",
       "      <td>113.19</td>\n",
       "      <td>1</td>\n",
       "      <td>1</td>\n",
       "    </tr>\n",
       "    <tr>\n",
       "      <th>1</th>\n",
       "      <td>171.52</td>\n",
       "      <td>104.17</td>\n",
       "      <td>104.03</td>\n",
       "      <td>5.27</td>\n",
       "      <td>3.16</td>\n",
       "      <td>111.82</td>\n",
       "      <td>0</td>\n",
       "      <td>0</td>\n",
       "    </tr>\n",
       "    <tr>\n",
       "      <th>2</th>\n",
       "      <td>171.78</td>\n",
       "      <td>103.80</td>\n",
       "      <td>103.75</td>\n",
       "      <td>3.81</td>\n",
       "      <td>3.24</td>\n",
       "      <td>113.39</td>\n",
       "      <td>1</td>\n",
       "      <td>1</td>\n",
       "    </tr>\n",
       "    <tr>\n",
       "      <th>3</th>\n",
       "      <td>172.02</td>\n",
       "      <td>104.08</td>\n",
       "      <td>103.99</td>\n",
       "      <td>5.57</td>\n",
       "      <td>3.30</td>\n",
       "      <td>111.10</td>\n",
       "      <td>0</td>\n",
       "      <td>0</td>\n",
       "    </tr>\n",
       "    <tr>\n",
       "      <th>4</th>\n",
       "      <td>171.79</td>\n",
       "      <td>104.34</td>\n",
       "      <td>104.37</td>\n",
       "      <td>5.00</td>\n",
       "      <td>3.07</td>\n",
       "      <td>111.87</td>\n",
       "      <td>0</td>\n",
       "      <td>0</td>\n",
       "    </tr>\n",
       "  </tbody>\n",
       "</table>\n",
       "</div>"
      ],
      "text/plain": [
       "   diagonal  height_left  height_right  margin_low  margin_up  length  \\\n",
       "0    172.09       103.95        103.73        4.39       3.09  113.19   \n",
       "1    171.52       104.17        104.03        5.27       3.16  111.82   \n",
       "2    171.78       103.80        103.75        3.81       3.24  113.39   \n",
       "3    172.02       104.08        103.99        5.57       3.30  111.10   \n",
       "4    171.79       104.34        104.37        5.00       3.07  111.87   \n",
       "\n",
       "   cluster_RL  cluster_kmeans  \n",
       "0           1               1  \n",
       "1           0               0  \n",
       "2           1               1  \n",
       "3           0               0  \n",
       "4           0               0  "
      ]
     },
     "execution_count": 124,
     "metadata": {},
     "output_type": "execute_result"
    }
   ],
   "source": [
    "billets_prod"
   ]
  },
  {
   "cell_type": "code",
   "execution_count": null,
   "id": "5fa52b3d",
   "metadata": {},
   "outputs": [],
   "source": []
  }
 ],
 "metadata": {
  "kernelspec": {
   "display_name": "Python 3 (ipykernel)",
   "language": "python",
   "name": "python3"
  },
  "language_info": {
   "codemirror_mode": {
    "name": "ipython",
    "version": 3
   },
   "file_extension": ".py",
   "mimetype": "text/x-python",
   "name": "python",
   "nbconvert_exporter": "python",
   "pygments_lexer": "ipython3",
   "version": "3.9.12"
  }
 },
 "nbformat": 4,
 "nbformat_minor": 5
}
